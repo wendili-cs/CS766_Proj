{
 "cells": [
  {
   "cell_type": "code",
   "execution_count": 9,
   "id": "e80cacd1",
   "metadata": {},
   "outputs": [
    {
     "name": "stdout",
     "output_type": "stream",
     "text": [
      "[[1.75311667e-04 2.20407285e-02 1.17826668e-04 3.17635536e-02\n",
      "  8.98859464e-03 2.70385877e-04 1.27576008e-01 7.73248635e-03\n",
      "  1.39435015e-05 2.15896216e-04 1.02603761e-03 1.54712819e-04\n",
      "  6.32272349e-05 4.29541687e-05 5.26674849e-04 7.20039825e-04\n",
      "  1.11301949e-06 2.88783312e-01 4.42625098e-02 1.18265720e-03\n",
      "  2.82189772e-02 8.90552849e-02 1.09257447e-02 1.14442408e-03\n",
      "  1.70786176e-02 1.10733730e-03 8.42365203e-04 6.80524856e-04\n",
      "  4.84570861e-02 1.05735734e-01 3.37281053e-05 7.16076493e-02\n",
      "  8.75335932e-02 1.92103663e-03]]\n",
      "17\n"
     ]
    }
   ],
   "source": [
    "import numpy as np\n",
    "import adapt\n",
    "from adapt.feature_based import DANN\n",
    "from tensorflow import keras\n",
    "from keras import layers\n",
    "from tensorflow.keras import Sequential\n",
    "from tensorflow.keras.layers import Input, Dense, Reshape\n",
    "from tensorflow.keras.optimizers import Adam\n",
    "from keras.utils.np_utils import to_categorical \n",
    "\n",
    "def get_encoder(input_shape=(512,)):\n",
    "    model = Sequential()\n",
    "    model.add(Dense(512, activation='relu',\n",
    "                    input_shape=input_shape))\n",
    "    model.add(Dense(256, activation=\"relu\"))\n",
    "    model.add(Dense(128, activation=\"sigmoid\"))\n",
    "    return model\n",
    "\n",
    "def get_task(input_shape=(128,)):\n",
    "    model = Sequential()\n",
    "    model.add(Dense(128, activation='relu',input_shape=input_shape))\n",
    "    model.add(Dense(64, activation='relu'))\n",
    "    model.add(Dense(34, activation=\"softmax\"))\n",
    "    return model\n",
    "\n",
    "def get_discriminator(input_shape=(128,)):\n",
    "    model = Sequential()\n",
    "    model.add(Dense(128, activation='relu',input_shape=input_shape))\n",
    "    model.add(Dense(64, activation='relu'))\n",
    "    model.add(Dense(32, activation='relu'))\n",
    "    model.add(Dense(1, activation='sigmoid'))\n",
    "    return model\n",
    "\n",
    "save_check_pt = './checkpoints_DANN'\n",
    "# Sample to load model\n",
    "#Dummy inputs to load model\n",
    "xs=np.zeros((8446, 512))\n",
    "ys=np.zeros((8446, 34))\n",
    "xt=np.zeros((762, 512))\n",
    "yt=np.zeros((762, 34))\n",
    "weather_model = DANN(get_encoder(), get_task(), get_discriminator(),\n",
    "             lambda_=0.1, optimizer=Adam(0.0001),loss='CategoricalCrossentropy',metrics=[\"acc\"],random_state=0)\n",
    "weather_model.fit(xs, ys,xt,yt, epochs=0,verbose=1,batch_size = 32) # NO fit happen, just dummy step to load model\n",
    "weather_model.load_weights(save_check_pt+ '/weather')\n",
    "\n",
    "#sample input and predict\n",
    "sample_in = np.zeros(512) #flatten 512 pixels from 32 * 16 orginal image\n",
    "predction = weather_model.predict(sample_in.reshape([-1,512]))\n",
    "print(predction)# prediction is one-hot encoding\n",
    "print(np.argmax(predction)) # actual predict outcome"
   ]
  }
 ],
 "metadata": {
  "kernelspec": {
   "display_name": "Python 3 (ipykernel)",
   "language": "python",
   "name": "python3"
  },
  "language_info": {
   "codemirror_mode": {
    "name": "ipython",
    "version": 3
   },
   "file_extension": ".py",
   "mimetype": "text/x-python",
   "name": "python",
   "nbconvert_exporter": "python",
   "pygments_lexer": "ipython3",
   "version": "3.9.7"
  }
 },
 "nbformat": 4,
 "nbformat_minor": 5
}
