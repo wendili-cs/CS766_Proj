{
 "cells": [
  {
   "cell_type": "code",
   "execution_count": 1,
   "id": "e80cacd1",
   "metadata": {},
   "outputs": [
    {
     "name": "stdout",
     "output_type": "stream",
     "text": [
      "sample one picture predcict shape with one hot encoding (1, 34)\n",
      "one picture actual outcome 25\n",
      "sample one picture predcict shape with one hot encoding (3, 34)\n",
      "one picture actual outcome [25 25 25]\n"
     ]
    }
   ],
   "source": [
    "import numpy as np\n",
    "import adapt\n",
    "from adapt.feature_based import DANN\n",
    "from tensorflow import keras\n",
    "from keras import layers\n",
    "from tensorflow.keras import Sequential\n",
    "from tensorflow.keras.layers import Input, Dense, Reshape\n",
    "from tensorflow.keras.optimizers import Adam\n",
    "from keras.utils.np_utils import to_categorical \n",
    "import warnings\n",
    "warnings.filterwarnings('ignore')\n",
    "warnings.simplefilter('ignore')\n",
    "\n",
    "\n",
    "def get_encoder(input_shape=(512,)):\n",
    "    model = Sequential()\n",
    "    model.add(Dense(512, activation='relu',\n",
    "                    input_shape=input_shape))\n",
    "    model.add(Dense(256, activation=\"relu\"))\n",
    "    model.add(Dense(128, activation=\"sigmoid\"))\n",
    "    return model\n",
    "\n",
    "def get_task(input_shape=(128,)):\n",
    "    model = Sequential()\n",
    "    model.add(Dense(128, activation='relu',input_shape=input_shape))\n",
    "    model.add(Dense(64, activation='relu'))\n",
    "    model.add(Dense(34, activation=\"softmax\"))\n",
    "    return model\n",
    "\n",
    "def get_discriminator(input_shape=(128,)):\n",
    "    model = Sequential()\n",
    "    model.add(Dense(128, activation='relu',input_shape=input_shape))\n",
    "    model.add(Dense(64, activation='relu'))\n",
    "    model.add(Dense(32, activation='relu'))\n",
    "    model.add(Dense(1, activation='sigmoid'))\n",
    "    return model\n",
    "\n",
    "save_check_pt = './checkpoints_DANN'\n",
    "# Sample to load model\n",
    "#Dummy inputs to load model\n",
    "xs=np.zeros((8446, 512))\n",
    "ys=np.zeros((8446, 34))\n",
    "xt=np.zeros((762, 512))\n",
    "yt=np.zeros((762, 34))\n",
    "weather_model = DANN(get_encoder(), get_task(), get_discriminator(),\n",
    "             lambda_=0.1, optimizer=Adam(0.0001),loss='CategoricalCrossentropy',metrics=[\"acc\"],random_state=0)\n",
    "weather_model.fit(xs, ys,xt,yt, epochs=0,verbose=1,batch_size = 32) # NO fit happen, just dummy step to load model\n",
    "weather_model.load_weights(save_check_pt+ '/weather')\n",
    "\n",
    "#sample input and predict\n",
    "sample_in = np.zeros(512) #Simulates flatten 512 pixels from 32 * 16 orginal image\n",
    "predction = weather_model.predict(sample_in.reshape([-1,512]))\n",
    "print(\"sample one picture predcict shape with one hot encoding\",np.shape(predction))# prediction is one-hot encoding\n",
    "print(\"one picture actual outcome\",np.argmax(predction)) # actual predict outcome\n",
    "\n",
    "#sample input with two pictures and predction\n",
    "sample_in = np.zeros((3,512))\n",
    "predction = weather_model.predict(sample_in)\n",
    "print(\"sample one picture predcict shape with one hot encoding\",np.shape(predction))# prediction is one-hot encoding\n",
    "print(\"one picture actual outcome\",np.argmax(predction,axis=1)) # actual predict outcome"
   ]
  }
 ],
 "metadata": {
  "kernelspec": {
   "display_name": "Python 3 (ipykernel)",
   "language": "python",
   "name": "python3"
  },
  "language_info": {
   "codemirror_mode": {
    "name": "ipython",
    "version": 3
   },
   "file_extension": ".py",
   "mimetype": "text/x-python",
   "name": "python",
   "nbconvert_exporter": "python",
   "pygments_lexer": "ipython3",
   "version": "3.9.7"
  }
 },
 "nbformat": 4,
 "nbformat_minor": 5
}
