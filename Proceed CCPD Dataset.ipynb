{
 "cells": [
  {
   "cell_type": "code",
   "execution_count": 1,
   "id": "0b5e32ea",
   "metadata": {},
   "outputs": [],
   "source": [
    "import os\n",
    "import numpy as np\n",
    "from PIL import Image\n",
    "from matplotlib import pyplot as plt\n",
    "import pickle"
   ]
  },
  {
   "cell_type": "code",
   "execution_count": 2,
   "id": "fbecea77",
   "metadata": {},
   "outputs": [],
   "source": [
    "# The path of the datasets, use dict format\n",
    "dataset_path = {\"base\": \"../dataset/ccpd/splitted_plates_base\", \n",
    "                \"challenge\":\"../dataset/ccpd/splitted_plates_challenge\",\n",
    "               \"db\":\"../dataset/ccpd/splitted_plates_db\",\n",
    "               \"fn\":\"../dataset/ccpd/splitted_plates_fn\",\n",
    "               \"weather\":\"../dataset/ccpd/splitted_plates_weather\"}\n",
    "# Resize the images to the same image size\n",
    "img_h, img_w = 32,16"
   ]
  },
  {
   "cell_type": "code",
   "execution_count": 3,
   "id": "15db088b",
   "metadata": {},
   "outputs": [],
   "source": [
    "datasets = {}\n",
    "for each_key in dataset_path:\n",
    "    cur_dataset = dataset_path[each_key]\n",
    "    dirs = os.listdir(cur_dataset)\n",
    "    Y2X = {} # from the image name to all images (np array)\n",
    "    for each in dirs:\n",
    "        if '.' in each:\n",
    "            continue\n",
    "        files = os.listdir(cur_dataset + \"/\" + each)\n",
    "        X = []\n",
    "        for file in files:\n",
    "            img = Image.open(cur_dataset + \"/\" + each + '/' + file)\n",
    "            img = img.convert('L') # conver to grayscale images\n",
    "            img = img.resize([img_w, img_h])\n",
    "            img_np = np.asarray(img)\n",
    "            X.append(img_np.reshape([-1]))\n",
    "        Y2X[each] = np.asarray(X)\n",
    "    datasets[each_key] = Y2X"
   ]
  },
  {
   "cell_type": "code",
   "execution_count": 4,
   "id": "7b9060d5",
   "metadata": {},
   "outputs": [
    {
     "data": {
      "text/plain": [
       "dict_keys(['base', 'challenge', 'db', 'fn', 'weather'])"
      ]
     },
     "execution_count": 4,
     "metadata": {},
     "output_type": "execute_result"
    }
   ],
   "source": [
    "datasets.keys()"
   ]
  },
  {
   "cell_type": "code",
   "execution_count": 5,
   "id": "efaabfc9",
   "metadata": {},
   "outputs": [
    {
     "data": {
      "text/plain": [
       "dict_keys(['R', 'U', '9', '0', '7', 'I', 'N', 'G', '6', 'Z', '1', '8', 'T', 'S', 'A', 'F', 'H', 'M', 'J', 'C', 'D', 'V', 'Q', '4', 'X', '3', 'E', 'B', 'K', 'L', '2', 'Y', '5', 'P', 'W'])"
      ]
     },
     "execution_count": 5,
     "metadata": {},
     "output_type": "execute_result"
    }
   ],
   "source": [
    "datasets[\"base\"].keys()"
   ]
  },
  {
   "cell_type": "code",
   "execution_count": 6,
   "id": "af71b6cf",
   "metadata": {},
   "outputs": [
    {
     "data": {
      "text/plain": [
       "(90, 512)"
      ]
     },
     "execution_count": 6,
     "metadata": {},
     "output_type": "execute_result"
    }
   ],
   "source": [
    "datasets[\"base\"]['X'].shape"
   ]
  },
  {
   "cell_type": "code",
   "execution_count": 7,
   "id": "a374bb69",
   "metadata": {},
   "outputs": [
    {
     "data": {
      "image/png": "[encoded data removed]",
      "text/plain": [
       "<Figure size 432x288 with 6 Axes>"
      ]
     },
     "metadata": {
      "needs_background": "light"
     },
     "output_type": "display_data"
    }
   ],
   "source": [
    "fig = plt.figure()\n",
    "fig.subplots_adjust(hspace=0.4, wspace=0.4)\n",
    "for i in range(6):\n",
    "    ax = fig.add_subplot(2, 3, i+1)\n",
    "    ax.imshow(Y2X['X'][i].reshape([img_h, img_w]))"
   ]
  },
  {
   "cell_type": "code",
   "execution_count": 8,
   "id": "a9ee3a57",
   "metadata": {},
   "outputs": [],
   "source": [
    "# save the datasets\n",
    "with open('datasets/datasets.pkl', 'wb') as f:\n",
    "    pickle.dump(datasets, f)"
   ]
  },
  {
   "cell_type": "code",
   "execution_count": null,
   "id": "06cc53e4",
   "metadata": {},
   "outputs": [],
   "source": []
  }
 ],
 "metadata": {
  "kernelspec": {
   "display_name": "ML miniconda",
   "language": "python",
   "name": "ml"
  },
  "language_info": {
   "codemirror_mode": {
    "name": "ipython",
    "version": 3
   },
   "file_extension": ".py",
   "mimetype": "text/x-python",
   "name": "python",
   "nbconvert_exporter": "python",
   "pygments_lexer": "ipython3",
   "version": "3.8.11"
  }
 },
 "nbformat": 4,
 "nbformat_minor": 5
}
